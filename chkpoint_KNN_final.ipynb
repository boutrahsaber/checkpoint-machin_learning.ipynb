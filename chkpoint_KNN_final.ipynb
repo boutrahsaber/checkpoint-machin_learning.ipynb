{
  "nbformat": 4,
  "nbformat_minor": 0,
  "metadata": {
    "colab": {
      "name": "chkpoint KNN.ipynb",
      "provenance": [],
      "collapsed_sections": [
        "KTmBy5sUyxMa"
      ],
      "toc_visible": true,
      "authorship_tag": "ABX9TyMw8lp1Cd7K3iwY8K8b3uSW",
      "include_colab_link": true
    },
    "kernelspec": {
      "display_name": "Python 3",
      "name": "python3"
    },
    "language_info": {
      "name": "python"
    }
  },
  "cells": [
    {
      "cell_type": "markdown",
      "metadata": {
        "id": "view-in-github",
        "colab_type": "text"
      },
      "source": [
        "<a href=\"https://colab.research.google.com/github/boutrahsaber/checkpoint-machin_learning.ipynb/blob/main/chkpoint_KNN_final.ipynb\" target=\"_parent\"><img src=\"https://colab.research.google.com/assets/colab-badge.svg\" alt=\"Open In Colab\"/></a>"
      ]
    },
    {
      "cell_type": "markdown",
      "metadata": {
        "id": "KTmBy5sUyxMa"
      },
      "source": [
        "# avec donner iris.csv"
      ]
    },
    {
      "cell_type": "code",
      "metadata": {
        "id": "cs34VDZ_VE4u"
      },
      "source": [
        "import numpy as np\n",
        "import pandas as pd\n",
        "import  matplotlib.pyplot as plt\n",
        "import seaborn as sns\n",
        "#importer les bib machin learning\n",
        "from sklearn.linear_model import LogisticRegression\n",
        "from sklearn.metrics import classification_report, accuracy_score\n",
        "from sklearn.model_selection import train_test_split\n",
        "from sklearn.neighbors import KNeighborsClassifier\n",
        "from sklearn.metrics import accuracy_score"
      ],
      "execution_count": null,
      "outputs": []
    },
    {
      "cell_type": "code",
      "metadata": {
        "colab": {
          "base_uri": "https://localhost:8080/",
          "height": 393
        },
        "id": "tnS6L68RN8fH",
        "outputId": "5ac3f210-17ea-46b7-a10d-3a1c868170f6"
      },
      "source": [
        "nom_file =\"iris\"\n",
        "data_iris = pd.read_csv(nom_file + \".csv\")\n",
        "data_iris"
      ],
      "execution_count": null,
      "outputs": [
        {
          "output_type": "error",
          "ename": "FileNotFoundError",
          "evalue": "ignored",
          "traceback": [
            "\u001b[0;31m---------------------------------------------------------------------------\u001b[0m",
            "\u001b[0;31mFileNotFoundError\u001b[0m                         Traceback (most recent call last)",
            "\u001b[0;32m<ipython-input-2-f34587390382>\u001b[0m in \u001b[0;36m<module>\u001b[0;34m()\u001b[0m\n\u001b[1;32m      1\u001b[0m \u001b[0mnom_file\u001b[0m \u001b[0;34m=\u001b[0m\u001b[0;34m\"iris\"\u001b[0m\u001b[0;34m\u001b[0m\u001b[0;34m\u001b[0m\u001b[0m\n\u001b[0;32m----> 2\u001b[0;31m \u001b[0mdata_iris\u001b[0m \u001b[0;34m=\u001b[0m \u001b[0mpd\u001b[0m\u001b[0;34m.\u001b[0m\u001b[0mread_csv\u001b[0m\u001b[0;34m(\u001b[0m\u001b[0mnom_file\u001b[0m \u001b[0;34m+\u001b[0m \u001b[0;34m\".csv\"\u001b[0m\u001b[0;34m)\u001b[0m\u001b[0;34m\u001b[0m\u001b[0;34m\u001b[0m\u001b[0m\n\u001b[0m\u001b[1;32m      3\u001b[0m \u001b[0mdata_iris\u001b[0m\u001b[0;34m\u001b[0m\u001b[0;34m\u001b[0m\u001b[0m\n",
            "\u001b[0;32m/usr/local/lib/python3.7/dist-packages/pandas/io/parsers.py\u001b[0m in \u001b[0;36mread_csv\u001b[0;34m(filepath_or_buffer, sep, delimiter, header, names, index_col, usecols, squeeze, prefix, mangle_dupe_cols, dtype, engine, converters, true_values, false_values, skipinitialspace, skiprows, skipfooter, nrows, na_values, keep_default_na, na_filter, verbose, skip_blank_lines, parse_dates, infer_datetime_format, keep_date_col, date_parser, dayfirst, cache_dates, iterator, chunksize, compression, thousands, decimal, lineterminator, quotechar, quoting, doublequote, escapechar, comment, encoding, dialect, error_bad_lines, warn_bad_lines, delim_whitespace, low_memory, memory_map, float_precision)\u001b[0m\n\u001b[1;32m    686\u001b[0m     )\n\u001b[1;32m    687\u001b[0m \u001b[0;34m\u001b[0m\u001b[0m\n\u001b[0;32m--> 688\u001b[0;31m     \u001b[0;32mreturn\u001b[0m \u001b[0m_read\u001b[0m\u001b[0;34m(\u001b[0m\u001b[0mfilepath_or_buffer\u001b[0m\u001b[0;34m,\u001b[0m \u001b[0mkwds\u001b[0m\u001b[0;34m)\u001b[0m\u001b[0;34m\u001b[0m\u001b[0;34m\u001b[0m\u001b[0m\n\u001b[0m\u001b[1;32m    689\u001b[0m \u001b[0;34m\u001b[0m\u001b[0m\n\u001b[1;32m    690\u001b[0m \u001b[0;34m\u001b[0m\u001b[0m\n",
            "\u001b[0;32m/usr/local/lib/python3.7/dist-packages/pandas/io/parsers.py\u001b[0m in \u001b[0;36m_read\u001b[0;34m(filepath_or_buffer, kwds)\u001b[0m\n\u001b[1;32m    452\u001b[0m \u001b[0;34m\u001b[0m\u001b[0m\n\u001b[1;32m    453\u001b[0m     \u001b[0;31m# Create the parser.\u001b[0m\u001b[0;34m\u001b[0m\u001b[0;34m\u001b[0m\u001b[0;34m\u001b[0m\u001b[0m\n\u001b[0;32m--> 454\u001b[0;31m     \u001b[0mparser\u001b[0m \u001b[0;34m=\u001b[0m \u001b[0mTextFileReader\u001b[0m\u001b[0;34m(\u001b[0m\u001b[0mfp_or_buf\u001b[0m\u001b[0;34m,\u001b[0m \u001b[0;34m**\u001b[0m\u001b[0mkwds\u001b[0m\u001b[0;34m)\u001b[0m\u001b[0;34m\u001b[0m\u001b[0;34m\u001b[0m\u001b[0m\n\u001b[0m\u001b[1;32m    455\u001b[0m \u001b[0;34m\u001b[0m\u001b[0m\n\u001b[1;32m    456\u001b[0m     \u001b[0;32mif\u001b[0m \u001b[0mchunksize\u001b[0m \u001b[0;32mor\u001b[0m \u001b[0miterator\u001b[0m\u001b[0;34m:\u001b[0m\u001b[0;34m\u001b[0m\u001b[0;34m\u001b[0m\u001b[0m\n",
            "\u001b[0;32m/usr/local/lib/python3.7/dist-packages/pandas/io/parsers.py\u001b[0m in \u001b[0;36m__init__\u001b[0;34m(self, f, engine, **kwds)\u001b[0m\n\u001b[1;32m    946\u001b[0m             \u001b[0mself\u001b[0m\u001b[0;34m.\u001b[0m\u001b[0moptions\u001b[0m\u001b[0;34m[\u001b[0m\u001b[0;34m\"has_index_names\"\u001b[0m\u001b[0;34m]\u001b[0m \u001b[0;34m=\u001b[0m \u001b[0mkwds\u001b[0m\u001b[0;34m[\u001b[0m\u001b[0;34m\"has_index_names\"\u001b[0m\u001b[0;34m]\u001b[0m\u001b[0;34m\u001b[0m\u001b[0;34m\u001b[0m\u001b[0m\n\u001b[1;32m    947\u001b[0m \u001b[0;34m\u001b[0m\u001b[0m\n\u001b[0;32m--> 948\u001b[0;31m         \u001b[0mself\u001b[0m\u001b[0;34m.\u001b[0m\u001b[0m_make_engine\u001b[0m\u001b[0;34m(\u001b[0m\u001b[0mself\u001b[0m\u001b[0;34m.\u001b[0m\u001b[0mengine\u001b[0m\u001b[0;34m)\u001b[0m\u001b[0;34m\u001b[0m\u001b[0;34m\u001b[0m\u001b[0m\n\u001b[0m\u001b[1;32m    949\u001b[0m \u001b[0;34m\u001b[0m\u001b[0m\n\u001b[1;32m    950\u001b[0m     \u001b[0;32mdef\u001b[0m \u001b[0mclose\u001b[0m\u001b[0;34m(\u001b[0m\u001b[0mself\u001b[0m\u001b[0;34m)\u001b[0m\u001b[0;34m:\u001b[0m\u001b[0;34m\u001b[0m\u001b[0;34m\u001b[0m\u001b[0m\n",
            "\u001b[0;32m/usr/local/lib/python3.7/dist-packages/pandas/io/parsers.py\u001b[0m in \u001b[0;36m_make_engine\u001b[0;34m(self, engine)\u001b[0m\n\u001b[1;32m   1178\u001b[0m     \u001b[0;32mdef\u001b[0m \u001b[0m_make_engine\u001b[0m\u001b[0;34m(\u001b[0m\u001b[0mself\u001b[0m\u001b[0;34m,\u001b[0m \u001b[0mengine\u001b[0m\u001b[0;34m=\u001b[0m\u001b[0;34m\"c\"\u001b[0m\u001b[0;34m)\u001b[0m\u001b[0;34m:\u001b[0m\u001b[0;34m\u001b[0m\u001b[0;34m\u001b[0m\u001b[0m\n\u001b[1;32m   1179\u001b[0m         \u001b[0;32mif\u001b[0m \u001b[0mengine\u001b[0m \u001b[0;34m==\u001b[0m \u001b[0;34m\"c\"\u001b[0m\u001b[0;34m:\u001b[0m\u001b[0;34m\u001b[0m\u001b[0;34m\u001b[0m\u001b[0m\n\u001b[0;32m-> 1180\u001b[0;31m             \u001b[0mself\u001b[0m\u001b[0;34m.\u001b[0m\u001b[0m_engine\u001b[0m \u001b[0;34m=\u001b[0m \u001b[0mCParserWrapper\u001b[0m\u001b[0;34m(\u001b[0m\u001b[0mself\u001b[0m\u001b[0;34m.\u001b[0m\u001b[0mf\u001b[0m\u001b[0;34m,\u001b[0m \u001b[0;34m**\u001b[0m\u001b[0mself\u001b[0m\u001b[0;34m.\u001b[0m\u001b[0moptions\u001b[0m\u001b[0;34m)\u001b[0m\u001b[0;34m\u001b[0m\u001b[0;34m\u001b[0m\u001b[0m\n\u001b[0m\u001b[1;32m   1181\u001b[0m         \u001b[0;32melse\u001b[0m\u001b[0;34m:\u001b[0m\u001b[0;34m\u001b[0m\u001b[0;34m\u001b[0m\u001b[0m\n\u001b[1;32m   1182\u001b[0m             \u001b[0;32mif\u001b[0m \u001b[0mengine\u001b[0m \u001b[0;34m==\u001b[0m \u001b[0;34m\"python\"\u001b[0m\u001b[0;34m:\u001b[0m\u001b[0;34m\u001b[0m\u001b[0;34m\u001b[0m\u001b[0m\n",
            "\u001b[0;32m/usr/local/lib/python3.7/dist-packages/pandas/io/parsers.py\u001b[0m in \u001b[0;36m__init__\u001b[0;34m(self, src, **kwds)\u001b[0m\n\u001b[1;32m   2008\u001b[0m         \u001b[0mkwds\u001b[0m\u001b[0;34m[\u001b[0m\u001b[0;34m\"usecols\"\u001b[0m\u001b[0;34m]\u001b[0m \u001b[0;34m=\u001b[0m \u001b[0mself\u001b[0m\u001b[0;34m.\u001b[0m\u001b[0musecols\u001b[0m\u001b[0;34m\u001b[0m\u001b[0;34m\u001b[0m\u001b[0m\n\u001b[1;32m   2009\u001b[0m \u001b[0;34m\u001b[0m\u001b[0m\n\u001b[0;32m-> 2010\u001b[0;31m         \u001b[0mself\u001b[0m\u001b[0;34m.\u001b[0m\u001b[0m_reader\u001b[0m \u001b[0;34m=\u001b[0m \u001b[0mparsers\u001b[0m\u001b[0;34m.\u001b[0m\u001b[0mTextReader\u001b[0m\u001b[0;34m(\u001b[0m\u001b[0msrc\u001b[0m\u001b[0;34m,\u001b[0m \u001b[0;34m**\u001b[0m\u001b[0mkwds\u001b[0m\u001b[0;34m)\u001b[0m\u001b[0;34m\u001b[0m\u001b[0;34m\u001b[0m\u001b[0m\n\u001b[0m\u001b[1;32m   2011\u001b[0m         \u001b[0mself\u001b[0m\u001b[0;34m.\u001b[0m\u001b[0munnamed_cols\u001b[0m \u001b[0;34m=\u001b[0m \u001b[0mself\u001b[0m\u001b[0;34m.\u001b[0m\u001b[0m_reader\u001b[0m\u001b[0;34m.\u001b[0m\u001b[0munnamed_cols\u001b[0m\u001b[0;34m\u001b[0m\u001b[0;34m\u001b[0m\u001b[0m\n\u001b[1;32m   2012\u001b[0m \u001b[0;34m\u001b[0m\u001b[0m\n",
            "\u001b[0;32mpandas/_libs/parsers.pyx\u001b[0m in \u001b[0;36mpandas._libs.parsers.TextReader.__cinit__\u001b[0;34m()\u001b[0m\n",
            "\u001b[0;32mpandas/_libs/parsers.pyx\u001b[0m in \u001b[0;36mpandas._libs.parsers.TextReader._setup_parser_source\u001b[0;34m()\u001b[0m\n",
            "\u001b[0;31mFileNotFoundError\u001b[0m: [Errno 2] No such file or directory: 'iris.csv'"
          ]
        }
      ]
    },
    {
      "cell_type": "code",
      "metadata": {
        "colab": {
          "base_uri": "https://localhost:8080/"
        },
        "id": "HQiraadQZsrx",
        "outputId": "058074c1-d034-42f5-cad3-c55545b4bd57"
      },
      "source": [
        "data_iris.isna().sum().sum()"
      ],
      "execution_count": null,
      "outputs": [
        {
          "output_type": "execute_result",
          "data": {
            "text/plain": [
              "0"
            ]
          },
          "metadata": {
            "tags": []
          },
          "execution_count": 5
        }
      ]
    },
    {
      "cell_type": "code",
      "metadata": {
        "colab": {
          "base_uri": "https://localhost:8080/"
        },
        "id": "Xzji737HZsvM",
        "outputId": "583d7f5c-cf07-437d-ab88-c3f6d3617233"
      },
      "source": [
        "for i in data_iris:\n",
        "  l = []\n",
        "  cmt =0\n",
        "  for j in data_iris[i]:\n",
        "    if j not in l:\n",
        "      l.append(j)\n",
        "      cmt = cmt+1\n",
        "  print(i,'=', l)\n",
        "  print(i,'a:',cmt,' valeur')"
      ],
      "execution_count": null,
      "outputs": [
        {
          "output_type": "stream",
          "text": [
            "sepal.length = [5.1, 4.9, 4.7, 4.6, 5.0, 5.4, 4.4, 4.8, 4.3, 5.8, 5.7, 5.2, 5.5, 4.5, 5.3, 7.0, 6.4, 6.9, 6.5, 6.3, 6.6, 5.9, 6.0, 6.1, 5.6, 6.7, 6.2, 6.8, 7.1, 7.6, 7.3, 7.2, 7.7, 7.4, 7.9]\n",
            "sepal.length a: 35  valeur\n",
            "sepal.width = [3.5, 3.0, 3.2, 3.1, 3.6, 3.9, 3.4, 2.9, 3.7, 4.0, 4.4, 3.8, 3.3, 4.1, 4.2, 2.3, 2.8, 2.4, 2.7, 2.0, 2.2, 2.5, 2.6]\n",
            "sepal.width a: 23  valeur\n",
            "petal.length = [1.4, 1.3, 1.5, 1.7, 1.6, 1.1, 1.2, 1.0, 1.9, 4.7, 4.5, 4.9, 4.0, 4.6, 3.3, 3.9, 3.5, 4.2, 3.6, 4.4, 4.1, 4.8, 4.3, 5.0, 3.8, 3.7, 5.1, 3.0, 6.0, 5.9, 5.6, 5.8, 6.6, 6.3, 6.1, 5.3, 5.5, 6.7, 6.9, 5.7, 6.4, 5.4, 5.2]\n",
            "petal.length a: 43  valeur\n",
            "petal.width = [0.2, 0.4, 0.3, 0.1, 0.5, 0.6, 1.4, 1.5, 1.3, 1.6, 1.0, 1.1, 1.8, 1.2, 1.7, 2.5, 1.9, 2.1, 2.2, 2.0, 2.4, 2.3]\n",
            "petal.width a: 22  valeur\n",
            "variety = ['Setosa', 'Versicolor', 'Virginica']\n",
            "variety a: 3  valeur\n"
          ],
          "name": "stdout"
        }
      ]
    },
    {
      "cell_type": "code",
      "metadata": {
        "colab": {
          "base_uri": "https://localhost:8080/"
        },
        "id": "xGCg9YUbZsxK",
        "outputId": "03a812b9-f0e4-43ab-9f14-cb7a265f12c4"
      },
      "source": [
        "data_iris.isnull().sum()"
      ],
      "execution_count": null,
      "outputs": [
        {
          "output_type": "execute_result",
          "data": {
            "text/plain": [
              "sepal.length    0\n",
              "sepal.width     0\n",
              "petal.length    0\n",
              "petal.width     0\n",
              "variety         0\n",
              "dtype: int64"
            ]
          },
          "metadata": {
            "tags": []
          },
          "execution_count": 7
        }
      ]
    },
    {
      "cell_type": "code",
      "metadata": {
        "id": "TqNSgMQDZs06"
      },
      "source": [
        "data_iris[\"variety\"]=data_iris[\"variety\"].map({\"Setosa\":0,\"Versicolor\":1,\"Virginica\":2})#convert admitted variable into numerical"
      ],
      "execution_count": null,
      "outputs": []
    },
    {
      "cell_type": "code",
      "metadata": {
        "colab": {
          "base_uri": "https://localhost:8080/",
          "height": 296
        },
        "id": "YJnx8P-ZZs27",
        "outputId": "de59445c-bc71-490e-e1c6-169fcbd87175"
      },
      "source": [
        "plt.xlabel(\"features\")\n",
        "plt.ylabel(\"type\")\n",
        " \n",
        "pltX = data_iris.loc[:,'variety']\n",
        "pltY =data_iris.loc[:,'sepal.length']\n",
        "plt.scatter(pltY, pltX , color='blue', label='sepal_length')\n",
        " \n",
        "pltX = data_iris.loc[:,'variety']\n",
        "pltY =data_iris.loc[:,'sepal.width']\n",
        "plt.scatter(pltY, pltX , color='red', label='sepal_length')\n",
        " \n",
        "pltX = data_iris.loc[:,'variety']\n",
        "pltY =data_iris.loc[:,'sepal.width']\n",
        "plt.scatter(pltY, pltX , color='red', label='sepal.width')\n",
        " \n",
        "pltX = data_iris.loc[:,'variety']\n",
        "pltY =data_iris.loc[:,'petal.length']\n",
        "plt.scatter(pltY, pltX , color='yellow', label='petal.length')\n",
        " \n",
        "pltX = data_iris.loc[:,'variety']\n",
        "pltY =data_iris.loc[:,'petal.width']\n",
        "plt.scatter(pltY, pltX , color='green', label='petal.widthh')"
      ],
      "execution_count": null,
      "outputs": [
        {
          "output_type": "execute_result",
          "data": {
            "text/plain": [
              "<matplotlib.collections.PathCollection at 0x7f8699a47e10>"
            ]
          },
          "metadata": {
            "tags": []
          },
          "execution_count": 9
        },
        {
          "output_type": "display_data",
          "data": {
            "image/png": "[encoded data removed]",
            "text/plain": [
              "<Figure size 432x288 with 1 Axes>"
            ]
          },
          "metadata": {
            "tags": []
          }
        }
      ]
    },
    {
      "cell_type": "code",
      "metadata": {
        "id": "fctJX0QoZs6g"
      },
      "source": [
        "# preparer les données d'entrainement te de test\n",
        "x= data_iris.iloc[:,:-1]\n",
        "y =data_iris.iloc[:,-1]"
      ],
      "execution_count": null,
      "outputs": []
    },
    {
      "cell_type": "code",
      "metadata": {
        "colab": {
          "base_uri": "https://localhost:8080/"
        },
        "id": "wb-uDdpwTC00",
        "outputId": "bee563f5-7247-4a13-908f-5a83c357e353"
      },
      "source": [
        "x_train,x_test, y_train,y_test = train_test_split(x,y, test_size=0.2, random_state=30)\n",
        "n__neighbors = 30\n",
        "scores=[]\n",
        "for k in range(1,30):\n",
        "  knn=KNeighborsClassifier(k)\n",
        "  knn.fit(x_train, y_train)\n",
        "  y_pred = knn.predict(x_test)\n",
        "  print(\"Accuracy for k=\",k,'is',round(accuracy_score(y_pred, y_test),3))\n",
        "  scores.append(round(accuracy_score(y_pred, y_test),3))"
      ],
      "execution_count": null,
      "outputs": [
        {
          "output_type": "stream",
          "text": [
            "Accuracy for k= 1 is 0.9\n",
            "Accuracy for k= 2 is 0.933\n",
            "Accuracy for k= 3 is 0.933\n",
            "Accuracy for k= 4 is 0.9\n",
            "Accuracy for k= 5 is 0.933\n",
            "Accuracy for k= 6 is 0.933\n",
            "Accuracy for k= 7 is 0.967\n",
            "Accuracy for k= 8 is 0.967\n",
            "Accuracy for k= 9 is 1.0\n",
            "Accuracy for k= 10 is 0.967\n",
            "Accuracy for k= 11 is 1.0\n",
            "Accuracy for k= 12 is 1.0\n",
            "Accuracy for k= 13 is 1.0\n",
            "Accuracy for k= 14 is 1.0\n",
            "Accuracy for k= 15 is 1.0\n",
            "Accuracy for k= 16 is 1.0\n",
            "Accuracy for k= 17 is 1.0\n",
            "Accuracy for k= 18 is 1.0\n",
            "Accuracy for k= 19 is 1.0\n",
            "Accuracy for k= 20 is 0.967\n",
            "Accuracy for k= 21 is 1.0\n",
            "Accuracy for k= 22 is 0.967\n",
            "Accuracy for k= 23 is 1.0\n",
            "Accuracy for k= 24 is 0.967\n",
            "Accuracy for k= 25 is 0.967\n",
            "Accuracy for k= 26 is 0.933\n",
            "Accuracy for k= 27 is 1.0\n",
            "Accuracy for k= 28 is 0.933\n",
            "Accuracy for k= 29 is 1.0\n"
          ],
          "name": "stdout"
        }
      ]
    },
    {
      "cell_type": "code",
      "metadata": {
        "colab": {
          "base_uri": "https://localhost:8080/",
          "height": 296
        },
        "id": "jXiSogj5XSo8",
        "outputId": "7b34e317-0e85-43ae-a81a-266c01311a43"
      },
      "source": [
        "plt.plot(range(1,30),scores)\n",
        "plt.xlabel('Value K for KNN')\n",
        "plt.ylabel('Testing Acoracy')"
      ],
      "execution_count": null,
      "outputs": [
        {
          "output_type": "execute_result",
          "data": {
            "text/plain": [
              "Text(0, 0.5, 'Testing Acoracy')"
            ]
          },
          "metadata": {
            "tags": []
          },
          "execution_count": 12
        },
        {
          "output_type": "display_data",
          "data": {
            "image/png": "[encoded data removed]",
            "text/plain": [
              "<Figure size 432x288 with 1 Axes>"
            ]
          },
          "metadata": {
            "tags": []
          }
        }
      ]
    },
    {
      "cell_type": "markdown",
      "metadata": {
        "id": "PNpaxBHTZE0d"
      },
      "source": [
        "#travaill sur fichier <i>irisdata.txt</i>"
      ]
    },
    {
      "cell_type": "code",
      "metadata": {
        "colab": {
          "base_uri": "https://localhost:8080/"
        },
        "id": "clSzS2qKZBs9",
        "outputId": "b0fb0797-490b-4855-f638-b8af88ac1306"
      },
      "source": [
        "import csv\n",
        "with open('irisdata.txt','r') as csvfile:\n",
        "  lines = csv.reader(csvfile)\n",
        "  for row in lines:\n",
        "    print(','.join(row))"
      ],
      "execution_count": null,
      "outputs": [
        {
          "output_type": "stream",
          "text": [
            "5.1,3.5,1.4,0.2,Iris-setosa\n",
            "4.9,3.0,1.4,0.2,Iris-setosa\n",
            "4.7,3.2,1.3,0.2,Iris-setosa\n",
            "4.6,3.1,1.5,0.2,Iris-setosa\n",
            "5.0,3.6,1.4,0.2,Iris-setosa\n",
            "5.4,3.9,1.7,0.4,Iris-setosa\n",
            "4.6,3.4,1.4,0.3,Iris-setosa\n",
            "5.0,3.4,1.5,0.2,Iris-setosa\n",
            "4.4,2.9,1.4,0.2,Iris-setosa\n",
            "4.9,3.1,1.5,0.1,Iris-setosa\n",
            "5.4,3.7,1.5,0.2,Iris-setosa\n",
            "4.8,3.4,1.6,0.2,Iris-setosa\n",
            "4.8,3.0,1.4,0.1,Iris-setosa\n",
            "4.3,3.0,1.1,0.1,Iris-setosa\n",
            "5.8,4.0,1.2,0.2,Iris-setosa\n",
            "5.7,4.4,1.5,0.4,Iris-setosa\n",
            "5.4,3.9,1.3,0.4,Iris-setosa\n",
            "5.1,3.5,1.4,0.3,Iris-setosa\n",
            "5.7,3.8,1.7,0.3,Iris-setosa\n",
            "5.1,3.8,1.5,0.3,Iris-setosa\n",
            "5.4,3.4,1.7,0.2,Iris-setosa\n",
            "5.1,3.7,1.5,0.4,Iris-setosa\n",
            "4.6,3.6,1.0,0.2,Iris-setosa\n",
            "5.1,3.3,1.7,0.5,Iris-setosa\n",
            "4.8,3.4,1.9,0.2,Iris-setosa\n",
            "5.0,3.0,1.6,0.2,Iris-setosa\n",
            "5.0,3.4,1.6,0.4,Iris-setosa\n",
            "5.2,3.5,1.5,0.2,Iris-setosa\n",
            "5.2,3.4,1.4,0.2,Iris-setosa\n",
            "4.7,3.2,1.6,0.2,Iris-setosa\n",
            "4.8,3.1,1.6,0.2,Iris-setosa\n",
            "5.4,3.4,1.5,0.4,Iris-setosa\n",
            "5.2,4.1,1.5,0.1,Iris-setosa\n",
            "5.5,4.2,1.4,0.2,Iris-setosa\n",
            "4.9,3.1,1.5,0.1,Iris-setosa\n",
            "5.0,3.2,1.2,0.2,Iris-setosa\n",
            "5.5,3.5,1.3,0.2,Iris-setosa\n",
            "4.9,3.1,1.5,0.1,Iris-setosa\n",
            "4.4,3.0,1.3,0.2,Iris-setosa\n",
            "5.1,3.4,1.5,0.2,Iris-setosa\n",
            "5.0,3.5,1.3,0.3,Iris-setosa\n",
            "4.5,2.3,1.3,0.3,Iris-setosa\n",
            "4.4,3.2,1.3,0.2,Iris-setosa\n",
            "5.0,3.5,1.6,0.6,Iris-setosa\n",
            "5.1,3.8,1.9,0.4,Iris-setosa\n",
            "4.8,3.0,1.4,0.3,Iris-setosa\n",
            "5.1,3.8,1.6,0.2,Iris-setosa\n",
            "4.6,3.2,1.4,0.2,Iris-setosa\n",
            "5.3,3.7,1.5,0.2,Iris-setosa\n",
            "5.0,3.3,1.4,0.2,Iris-setosa\n",
            "7.0,3.2,4.7,1.4,Iris-versicolor\n",
            "6.4,3.2,4.5,1.5,Iris-versicolor\n",
            "6.9,3.1,4.9,1.5,Iris-versicolor\n",
            "5.5,2.3,4.0,1.3,Iris-versicolor\n",
            "6.5,2.8,4.6,1.5,Iris-versicolor\n",
            "5.7,2.8,4.5,1.3,Iris-versicolor\n",
            "6.3,3.3,4.7,1.6,Iris-versicolor\n",
            "4.9,2.4,3.3,1.0,Iris-versicolor\n",
            "6.6,2.9,4.6,1.3,Iris-versicolor\n",
            "5.2,2.7,3.9,1.4,Iris-versicolor\n",
            "5.0,2.0,3.5,1.0,Iris-versicolor\n",
            "5.9,3.0,4.2,1.5,Iris-versicolor\n",
            "6.0,2.2,4.0,1.0,Iris-versicolor\n",
            "6.1,2.9,4.7,1.4,Iris-versicolor\n",
            "5.6,2.9,3.6,1.3,Iris-versicolor\n",
            "6.7,3.1,4.4,1.4,Iris-versicolor\n",
            "5.6,3.0,4.5,1.5,Iris-versicolor\n",
            "5.8,2.7,4.1,1.0,Iris-versicolor\n",
            "6.2,2.2,4.5,1.5,Iris-versicolor\n",
            "5.6,2.5,3.9,1.1,Iris-versicolor\n",
            "5.9,3.2,4.8,1.8,Iris-versicolor\n",
            "6.1,2.8,4.0,1.3,Iris-versicolor\n",
            "6.3,2.5,4.9,1.5,Iris-versicolor\n",
            "6.1,2.8,4.7,1.2,Iris-versicolor\n",
            "6.4,2.9,4.3,1.3,Iris-versicolor\n",
            "6.6,3.0,4.4,1.4,Iris-versicolor\n",
            "6.8,2.8,4.8,1.4,Iris-versicolor\n",
            "6.7,3.0,5.0,1.7,Iris-versicolor\n",
            "6.0,2.9,4.5,1.5,Iris-versicolor\n",
            "5.7,2.6,3.5,1.0,Iris-versicolor\n",
            "5.5,2.4,3.8,1.1,Iris-versicolor\n",
            "5.5,2.4,3.7,1.0,Iris-versicolor\n",
            "5.8,2.7,3.9,1.2,Iris-versicolor\n",
            "6.0,2.7,5.1,1.6,Iris-versicolor\n",
            "5.4,3.0,4.5,1.5,Iris-versicolor\n",
            "6.0,3.4,4.5,1.6,Iris-versicolor\n",
            "6.7,3.1,4.7,1.5,Iris-versicolor\n",
            "6.3,2.3,4.4,1.3,Iris-versicolor\n",
            "5.6,3.0,4.1,1.3,Iris-versicolor\n",
            "5.5,2.5,4.0,1.3,Iris-versicolor\n",
            "5.5,2.6,4.4,1.2,Iris-versicolor\n",
            "6.1,3.0,4.6,1.4,Iris-versicolor\n",
            "5.8,2.6,4.0,1.2,Iris-versicolor\n",
            "5.0,2.3,3.3,1.0,Iris-versicolor\n",
            "5.6,2.7,4.2,1.3,Iris-versicolor\n",
            "5.7,3.0,4.2,1.2,Iris-versicolor\n",
            "5.7,2.9,4.2,1.3,Iris-versicolor\n",
            "6.2,2.9,4.3,1.3,Iris-versicolor\n",
            "5.1,2.5,3.0,1.1,Iris-versicolor\n",
            "5.7,2.8,4.1,1.3,Iris-versicolor\n",
            "6.3,3.3,6.0,2.5,Iris-virginica\n",
            "5.8,2.7,5.1,1.9,Iris-virginica\n",
            "7.1,3.0,5.9,2.1,Iris-virginica\n",
            "6.3,2.9,5.6,1.8,Iris-virginica\n",
            "6.5,3.0,5.8,2.2,Iris-virginica\n",
            "7.6,3.0,6.6,2.1,Iris-virginica\n",
            "4.9,2.5,4.5,1.7,Iris-virginica\n",
            "7.3,2.9,6.3,1.8,Iris-virginica\n",
            "6.7,2.5,5.8,1.8,Iris-virginica\n",
            "7.2,3.6,6.1,2.5,Iris-virginica\n",
            "6.5,3.2,5.1,2.0,Iris-virginica\n",
            "6.4,2.7,5.3,1.9,Iris-virginica\n",
            "6.8,3.0,5.5,2.1,Iris-virginica\n",
            "5.7,2.5,5.0,2.0,Iris-virginica\n",
            "5.8,2.8,5.1,2.4,Iris-virginica\n",
            "6.4,3.2,5.3,2.3,Iris-virginica\n",
            "6.5,3.0,5.5,1.8,Iris-virginica\n",
            "7.7,3.8,6.7,2.2,Iris-virginica\n",
            "7.7,2.6,6.9,2.3,Iris-virginica\n",
            "6.0,2.2,5.0,1.5,Iris-virginica\n",
            "6.9,3.2,5.7,2.3,Iris-virginica\n",
            "5.6,2.8,4.9,2.0,Iris-virginica\n",
            "7.7,2.8,6.7,2.0,Iris-virginica\n",
            "6.3,2.7,4.9,1.8,Iris-virginica\n",
            "6.7,3.3,5.7,2.1,Iris-virginica\n",
            "7.2,3.2,6.0,1.8,Iris-virginica\n",
            "6.2,2.8,4.8,1.8,Iris-virginica\n",
            "6.1,3.0,4.9,1.8,Iris-virginica\n",
            "6.4,2.8,5.6,2.1,Iris-virginica\n",
            "7.2,3.0,5.8,1.6,Iris-virginica\n",
            "7.4,2.8,6.1,1.9,Iris-virginica\n",
            "7.9,3.8,6.4,2.0,Iris-virginica\n",
            "6.4,2.8,5.6,2.2,Iris-virginica\n",
            "6.3,2.8,5.1,1.5,Iris-virginica\n",
            "6.1,2.6,5.6,1.4,Iris-virginica\n",
            "7.7,3.0,6.1,2.3,Iris-virginica\n",
            "6.3,3.4,5.6,2.4,Iris-virginica\n",
            "6.4,3.1,5.5,1.8,Iris-virginica\n",
            "6.0,3.0,4.8,1.8,Iris-virginica\n",
            "6.9,3.1,5.4,2.1,Iris-virginica\n",
            "6.7,3.1,5.6,2.4,Iris-virginica\n",
            "6.9,3.1,5.1,2.3,Iris-virginica\n",
            "5.8,2.7,5.1,1.9,Iris-virginica\n",
            "6.8,3.2,5.9,2.3,Iris-virginica\n",
            "6.7,3.3,5.7,2.5,Iris-virginica\n",
            "6.7,3.0,5.2,2.3,Iris-virginica\n",
            "6.3,2.5,5.0,1.9,Iris-virginica\n",
            "6.5,3.0,5.2,2.0,Iris-virginica\n",
            "6.2,3.4,5.4,2.3,Iris-virginica\n",
            "5.9,3.0,5.1,1.8,Iris-virginica\n"
          ],
          "name": "stdout"
        }
      ]
    },
    {
      "cell_type": "code",
      "metadata": {
        "colab": {
          "base_uri": "https://localhost:8080/",
          "height": 132
        },
        "id": "mOq9DCcUcUTX",
        "outputId": "b5094d06-4270-438b-e9b1-4ff7d4c0064b"
      },
      "source": [
        "#spliting the data into training dataset\n",
        "import csv\n",
        "import random \n",
        "def loadDataset(filename, split, trainingset=[], testSet=[]):#nom de fichier, %de donner de test, donner d'entrainement ,donnée de test\n",
        "  with open(filename,'r') as csvfile:# var csvfile contienet contenu de fichier pour lécteur\n",
        "    line = csv.reader(csvfile)\n",
        "    dataset=list(lines)\n",
        "    for x in range(len(dataset)-1):\n",
        "      for y in range(4):\n",
        "        dataset[x][y] = float(dataset[x][y])\n",
        "      if random.random() < split:\n",
        "        #complete code\n",
        "        x_train,x_test, y_train,y_test = train_test_split(x,y, test_size = spit, random_state=30)\n",
        "        trainingset = [[x_train],[y_train]]\n",
        "        testSet = [[x_test][y_test]]\n",
        "      else:\n",
        "        #complet code\n",
        " "
      ],
      "execution_count": null,
      "outputs": [
        {
          "output_type": "error",
          "ename": "SyntaxError",
          "evalue": "ignored",
          "traceback": [
            "\u001b[0;36m  File \u001b[0;32m\"<ipython-input-14-3488f76bffb1>\"\u001b[0;36m, line \u001b[0;32m18\u001b[0m\n\u001b[0;31m    \u001b[0m\n\u001b[0m    ^\u001b[0m\n\u001b[0;31mSyntaxError\u001b[0m\u001b[0;31m:\u001b[0m unexpected EOF while parsing\n"
          ]
        }
      ]
    },
    {
      "cell_type": "code",
      "metadata": {
        "colab": {
          "base_uri": "https://localhost:8080/",
          "height": 132
        },
        "id": "lKPAHnZz8x4u",
        "outputId": "1d5a6ab4-6701-4390-ed95-7add921a0fd7"
      },
      "source": [
        "import csv \n",
        "import random\n",
        "import math\n",
        "import operator\n",
        "#changer l'ensembele de données\n",
        "filename = 'irisdata.txt'\n",
        "split = 0.66\n",
        "\n",
        "with open(filename,'r') as csvfile: # var csvfile contienet contenu de fichier pour lécteur\n",
        "  import random\n",
        "  lines = csv.reader(csvfile)\n",
        "  dataset=list(lines)\n",
        "  for x in range(len(dataset)-1):\n",
        "    for y in range(4):\n",
        "      dataset[x][y] = float(dataset[x][y])\n",
        "    if random.random() < split:\n",
        "    #complete code\n",
        "    x_train,x_test, y_train,y_test = train_test_split(x,y, test_size = spit, random_state=30)\n",
        "    trainingset = [[x_train],[y_train]]\n",
        "    testSet = [[x_test][y_test]]\n",
        "    else:\n",
        "        #complet code\n",
        "\"\"\""
      ],
      "execution_count": null,
      "outputs": [
        {
          "output_type": "error",
          "ename": "IndentationError",
          "evalue": "ignored",
          "traceback": [
            "\u001b[0;36m  File \u001b[0;32m\"<ipython-input-3-5c77f606948c>\"\u001b[0;36m, line \u001b[0;32m18\u001b[0m\n\u001b[0;31m    x_train,x_test, y_train,y_test = train_test_split(x,y, test_size = spit, random_state=30)\u001b[0m\n\u001b[0m          ^\u001b[0m\n\u001b[0;31mIndentationError\u001b[0m\u001b[0;31m:\u001b[0m expected an indented block\n"
          ]
        }
      ]
    },
    {
      "cell_type": "code",
      "metadata": {
        "id": "cE9xIg5CeWLz"
      },
      "source": [
        "#test this function \n",
        "trainingSet=[]\n",
        "testSet=[]\n",
        "loadDataset('irisdata',0.66,trainingSet, testSet)\n",
        "print('Train:'+repr(len(trainingSet)))\n",
        "print('Test:'+repr(len(testSet)))"
      ],
      "execution_count": null,
      "outputs": []
    },
    {
      "cell_type": "code",
      "metadata": {
        "id": "bGLtoLSRodH5"
      },
      "source": [
        "#similarity\n",
        "data1 =[2,2,2,'a']\n",
        "data2 =[4,4,4,'b']\n",
        " \n",
        "distans = euclideanDistance(data1, data2)\n",
        " \n",
        "print(\"distance :\", repr(distance))"
      ],
      "execution_count": null,
      "outputs": []
    },
    {
      "cell_type": "code",
      "metadata": {
        "id": "W-ed7h7oodKF"
      },
      "source": [
        ""
      ],
      "execution_count": null,
      "outputs": []
    },
    {
      "cell_type": "code",
      "metadata": {
        "id": "9c_HFfh_odM8"
      },
      "source": [
        ""
      ],
      "execution_count": null,
      "outputs": []
    },
    {
      "cell_type": "code",
      "metadata": {
        "id": "wJwbfXyQodOv"
      },
      "source": [
        ""
      ],
      "execution_count": null,
      "outputs": []
    },
    {
      "cell_type": "code",
      "metadata": {
        "id": "hcO9eBp-odSF"
      },
      "source": [
        ""
      ],
      "execution_count": null,
      "outputs": []
    },
    {
      "cell_type": "markdown",
      "metadata": {
        "id": "HaAh_82Yk--C"
      },
      "source": [
        "<hr>"
      ]
    },
    {
      "cell_type": "code",
      "metadata": {
        "id": "x8Zi9191iT5i",
        "colab": {
          "base_uri": "https://localhost:8080/"
        },
        "outputId": "0f97895a-81bf-4d47-f55c-870ee18024a1"
      },
      "source": [
        "import csv\n",
        "import random\n",
        "import math\n",
        "import operator\n",
        " \n",
        "# Load data set\n",
        "def loadDataset(filename, split, trainingSet = [], testSet = []):\n",
        "    with open(filename, 'r') as csvfile:\n",
        "        lines = csv.reader(csvfile)\n",
        "        dataset = list(lines)\n",
        "        for x in range(len(dataset)-1):\n",
        "            for y in range(4):\n",
        "                dataset[x][y] = float(dataset[x][y])\n",
        "            if random.random() < split:  # randomly divide the data\n",
        "                trainingSet.append(dataset[x])\n",
        "            else:\n",
        "                testSet.append(dataset[x])\n",
        " \n",
        "# calculating the dstance between the points multidimansional\n",
        "def euclideanDistance(instance1, instance2, length):\n",
        "    distance = 0\n",
        "    for x in range(length):\n",
        "        distance += pow((instance1[x]-instance2[x]), 2)\n",
        "    return math.sqrt(distance)\n",
        " \n",
        "# get k neighbors\n",
        "def getNeighbors(trainingSet, testInstance, k):\n",
        "    distances = []\n",
        "    length = len(testInstance)-1 # -1  car la dernière colomn  n'est pas un dimension c'est un nome de fleur\n",
        "    for x in range(len(trainingSet)):\n",
        "        dist = euclideanDistance(testInstance, trainingSet[x], length)\n",
        "        distances.append((trainingSet[x], dist))   #get the distance from the test point to other points\n",
        "    distances.sort(key=operator.itemgetter(1))    # Sort all distances\n",
        "    neighbors = []\n",
        "    for x in range(k):   #get the k nearest\n",
        "      neighbors.append(distances[x][0])\n",
        "    return neighbors\n",
        " \n",
        "# get the most class of the k neighbors\n",
        "def getResponse(neighbors):\n",
        "    classVotes = {}\n",
        "    for x in range(len(neighbors)):\n",
        "        response = neighbors[x][-1]\n",
        "        if response in classVotes:\n",
        "            classVotes[response] += 1\n",
        "        else:\n",
        "            classVotes[response] = 1\n",
        "    sortedVotes = sorted(classVotes.items(), key=operator.itemgetter(1), reverse=True)\n",
        "    return sortedVotes[0][0]   #Get the category with the most vote\n",
        " \n",
        " \n",
        "# calculate the accuracy of prediction \n",
        "def getAccuracy(testSet, predictions):\n",
        "    correct = 0\n",
        "    for x in range(len(testSet)):\n",
        "        if testSet[x][-1] == predictions[x]:\n",
        "            correct += 1\n",
        "    return (correct/float(len(testSet)))*100.0\n",
        " \n",
        " \n",
        "def main():\n",
        "    #prepare data\n",
        "    trainingSet = []\n",
        "    testSet = []\n",
        "    split = 0.67\n",
        "    loadDataset(r'irisdata.txt', split, trainingSet, testSet) # trainingset est une lise contient les elements pour taining et testset liste contient les donner de test\n",
        "    print('Trainset: ' + repr(len(trainingSet)))\n",
        "    print('Testset: ' + repr(len(testSet)))\n",
        "    #generate predictions\n",
        "    predictions = []\n",
        "    k = 3\n",
        "    for x in range(len(testSet)):\n",
        "        # trainingset trainingSet[x]\n",
        "        neighbors = getNeighbors(trainingSet, testSet[x], k)# neighbors liste contient les k plus proche point (tester un instane de test avec tout ls données d'entrainement)\n",
        "        result = getResponse(neighbors) # result contient la catégorie avec le plus de votes de type de fleur\n",
        "        predictions.append(result)\n",
        "        print ('predicted=' + repr(result) + ', actual=' + repr(testSet[x][-1])) # comparaison entre la valeur prédite pour une instance de test et sa valeur réelle. \n",
        "    print('predictions: ' + repr(predictions))\n",
        "    print(\"taill perdi=\",len(predictions),\" tiall de données de test\", len(testSet)) # taill de données de test est la meme taill de deonnées de presiction\n",
        "    accuracy = getAccuracy(testSet, predictions)\n",
        "    print('Accuracy: ' + repr(accuracy) + '%') # afficher Précision en pourcentage\n",
        " \n",
        "if __name__ == '__main__':\n",
        "    main()"
      ],
      "execution_count": null,
      "outputs": [
        {
          "output_type": "stream",
          "text": [
            "Trainset: 92\n",
            "Testset: 57\n",
            "predicted='Iris-setosa', actual='Iris-setosa'\n",
            "predicted='Iris-setosa', actual='Iris-setosa'\n",
            "predicted='Iris-setosa', actual='Iris-setosa'\n",
            "predicted='Iris-setosa', actual='Iris-setosa'\n",
            "predicted='Iris-setosa', actual='Iris-setosa'\n",
            "predicted='Iris-setosa', actual='Iris-setosa'\n",
            "predicted='Iris-setosa', actual='Iris-setosa'\n",
            "predicted='Iris-setosa', actual='Iris-setosa'\n",
            "predicted='Iris-setosa', actual='Iris-setosa'\n",
            "predicted='Iris-setosa', actual='Iris-setosa'\n",
            "predicted='Iris-setosa', actual='Iris-setosa'\n",
            "predicted='Iris-setosa', actual='Iris-setosa'\n",
            "predicted='Iris-setosa', actual='Iris-setosa'\n",
            "predicted='Iris-setosa', actual='Iris-setosa'\n",
            "predicted='Iris-setosa', actual='Iris-setosa'\n",
            "predicted='Iris-setosa', actual='Iris-setosa'\n",
            "predicted='Iris-setosa', actual='Iris-setosa'\n",
            "predicted='Iris-setosa', actual='Iris-setosa'\n",
            "predicted='Iris-setosa', actual='Iris-setosa'\n",
            "predicted='Iris-setosa', actual='Iris-setosa'\n",
            "predicted='Iris-setosa', actual='Iris-setosa'\n",
            "predicted='Iris-setosa', actual='Iris-setosa'\n",
            "predicted='Iris-versicolor', actual='Iris-versicolor'\n",
            "predicted='Iris-versicolor', actual='Iris-versicolor'\n",
            "predicted='Iris-versicolor', actual='Iris-versicolor'\n",
            "predicted='Iris-versicolor', actual='Iris-versicolor'\n",
            "predicted='Iris-versicolor', actual='Iris-versicolor'\n",
            "predicted='Iris-versicolor', actual='Iris-versicolor'\n",
            "predicted='Iris-versicolor', actual='Iris-versicolor'\n",
            "predicted='Iris-versicolor', actual='Iris-versicolor'\n",
            "predicted='Iris-virginica', actual='Iris-versicolor'\n",
            "predicted='Iris-versicolor', actual='Iris-versicolor'\n",
            "predicted='Iris-versicolor', actual='Iris-versicolor'\n",
            "predicted='Iris-versicolor', actual='Iris-versicolor'\n",
            "predicted='Iris-versicolor', actual='Iris-versicolor'\n",
            "predicted='Iris-versicolor', actual='Iris-versicolor'\n",
            "predicted='Iris-virginica', actual='Iris-virginica'\n",
            "predicted='Iris-virginica', actual='Iris-virginica'\n",
            "predicted='Iris-virginica', actual='Iris-virginica'\n",
            "predicted='Iris-virginica', actual='Iris-virginica'\n",
            "predicted='Iris-virginica', actual='Iris-virginica'\n",
            "predicted='Iris-virginica', actual='Iris-virginica'\n",
            "predicted='Iris-virginica', actual='Iris-virginica'\n",
            "predicted='Iris-virginica', actual='Iris-virginica'\n",
            "predicted='Iris-virginica', actual='Iris-virginica'\n",
            "predicted='Iris-virginica', actual='Iris-virginica'\n",
            "predicted='Iris-virginica', actual='Iris-virginica'\n",
            "predicted='Iris-virginica', actual='Iris-virginica'\n",
            "predicted='Iris-virginica', actual='Iris-virginica'\n",
            "predicted='Iris-virginica', actual='Iris-virginica'\n",
            "predicted='Iris-versicolor', actual='Iris-virginica'\n",
            "predicted='Iris-virginica', actual='Iris-virginica'\n",
            "predicted='Iris-virginica', actual='Iris-virginica'\n",
            "predicted='Iris-virginica', actual='Iris-virginica'\n",
            "predicted='Iris-virginica', actual='Iris-virginica'\n",
            "predicted='Iris-virginica', actual='Iris-virginica'\n",
            "predicted='Iris-virginica', actual='Iris-virginica'\n",
            "predictions: ['Iris-setosa', 'Iris-setosa', 'Iris-setosa', 'Iris-setosa', 'Iris-setosa', 'Iris-setosa', 'Iris-setosa', 'Iris-setosa', 'Iris-setosa', 'Iris-setosa', 'Iris-setosa', 'Iris-setosa', 'Iris-setosa', 'Iris-setosa', 'Iris-setosa', 'Iris-setosa', 'Iris-setosa', 'Iris-setosa', 'Iris-setosa', 'Iris-setosa', 'Iris-setosa', 'Iris-setosa', 'Iris-versicolor', 'Iris-versicolor', 'Iris-versicolor', 'Iris-versicolor', 'Iris-versicolor', 'Iris-versicolor', 'Iris-versicolor', 'Iris-versicolor', 'Iris-virginica', 'Iris-versicolor', 'Iris-versicolor', 'Iris-versicolor', 'Iris-versicolor', 'Iris-versicolor', 'Iris-virginica', 'Iris-virginica', 'Iris-virginica', 'Iris-virginica', 'Iris-virginica', 'Iris-virginica', 'Iris-virginica', 'Iris-virginica', 'Iris-virginica', 'Iris-virginica', 'Iris-virginica', 'Iris-virginica', 'Iris-virginica', 'Iris-virginica', 'Iris-versicolor', 'Iris-virginica', 'Iris-virginica', 'Iris-virginica', 'Iris-virginica', 'Iris-virginica', 'Iris-virginica']\n",
            "taill perdi= 57  tiall de données de test 57\n",
            "Accuracy: 96.49122807017544%\n"
          ],
          "name": "stdout"
        }
      ]
    },
    {
      "cell_type": "code",
      "metadata": {
        "id": "6ywNfknnUq1M"
      },
      "source": [
        ""
      ],
      "execution_count": null,
      "outputs": []
    },
    {
      "cell_type": "code",
      "metadata": {
        "id": "g_IoH-2EV1kn"
      },
      "source": [
        " from sklearn import neighbors   # model containing the KNN algorithm\n",
        "from sklearn import datasets    # modeles from some datasets\n",
        "# call knn classifier\n",
        " \n",
        "knn = neighbors.KNeighborsClassifier()\n",
        " \n",
        "#predicted petal code\n",
        " \n",
        " \n",
        "#predicted petal code\n",
        "from sklearn import neighbors \n",
        "from sklearn import datasets\n",
        "knn = neighbors.KNeighborsClassifier()\n",
        "iris = datasets.load_iris()\n",
        "# f = open(\"iris.data.csv\", 'wb')              #can save data\n",
        "# f.write(str(iris))\n",
        "# f.close()\n",
        "print iris\n",
        "knn.fit(iris.data, iris.target)                 #Use KNN  classifier for modeling, the default parameters used here, and you can check the document by yourself\n",
        "predictedLabel = knn.predict([[0.1, 0.2, 0.3, 0.4]])\n",
        "print (\"predictedLabel is :\" + predictedLabel)\n",
        " \n",
        " \n",
        " \n",
        " \n",
        "from sklearn.mode_selection import train_test_split   # Introduce a module for data set splitting\n",
        "X_train, X_test, y_train, y_test = train_test_split(X, y, test_size=0.3, random_state=42)"
      ],
      "execution_count": null,
      "outputs": []
    },
    {
      "cell_type": "code",
      "metadata": {
        "id": "ix6cr6p3V1B-"
      },
      "source": [
        ""
      ],
      "execution_count": null,
      "outputs": []
    }
  ]
}